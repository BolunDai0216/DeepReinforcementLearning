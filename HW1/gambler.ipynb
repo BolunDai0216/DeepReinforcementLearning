{
 "cells": [
  {
   "cell_type": "code",
   "execution_count": 102,
   "metadata": {},
   "outputs": [],
   "source": [
    "import numpy as np\n",
    "import matplotlib.pyplot as plt\n",
    "from pdb import set_trace"
   ]
  },
  {
   "cell_type": "code",
   "execution_count": 103,
   "metadata": {},
   "outputs": [],
   "source": [
    "def gamble(prob=0.4, state_num=99, threshold=1e-10):\n",
    "    state_num = state_num\n",
    "    policy = np.zeros((state_num, 1))\n",
    "    value = np.zeros((state_num, 1))\n",
    "    prob = prob\n",
    "    counter = 0 \n",
    "    error = 100\n",
    "\n",
    "    while error >= threshold:\n",
    "        value_copy = value.copy()\n",
    "\n",
    "        # s = {1, 2, ..., 99}\n",
    "        for state in range(1, state_num+1):\n",
    "            actions = range(0, np.minimum(state, state_num+1-state)+1)\n",
    "            q_values = np.zeros((len(actions), 1))\n",
    "\n",
    "            # a = {0, 1, ..., min(s, 100-s)}\n",
    "            for a in actions:\n",
    "                if (state + a) == 100:\n",
    "                    head = prob\n",
    "                else:\n",
    "                    head = prob*value[state+a-1]\n",
    "\n",
    "                if (state - a) == 0:\n",
    "                    tail = 0\n",
    "                else:\n",
    "                    tail = (1-prob)*value[state-a-1]\n",
    "\n",
    "                q_values[a] = head + tail\n",
    "\n",
    "            value[state-1] = np.amax(q_values)\n",
    "            idxs = np.where(q_values == value[state-1])\n",
    "            policy[state-1] = int(np.random.choice(idxs[0], 1)[0])\n",
    "\n",
    "        counter += 1\n",
    "        error = np.sum((np.array(value) - np.array(value_copy))**2)\n",
    "    \n",
    "    return policy, value"
   ]
  },
  {
   "cell_type": "code",
   "execution_count": 104,
   "metadata": {},
   "outputs": [
    {
     "data": {
      "text/plain": [
       "<Figure size 864x576 with 0 Axes>"
      ]
     },
     "metadata": {},
     "output_type": "display_data"
    }
   ],
   "source": [
    "fig = plt.figure(figsize=(12, 8))\n",
    "axes=[]"
   ]
  },
  {
   "cell_type": "code",
   "execution_count": 105,
   "metadata": {},
   "outputs": [
    {
     "data": {
      "text/plain": [
       "Text(0.5, 1.0, 'Ph = 0.25')"
      ]
     },
     "execution_count": 105,
     "metadata": {},
     "output_type": "execute_result"
    }
   ],
   "source": [
    "state_num = 99\n",
    "prob = 0.25\n",
    "\n",
    "axes.append(fig.add_subplot(2, 2, 1))\n",
    "for i in range(500):\n",
    "    policy, value = gamble(prob=prob, state_num=state_num)\n",
    "    axes[-1].plot(range(1, state_num+1), policy[:, 0], 'o', color='blue')\n",
    "axes[-1].set_xlabel('Capital', fontsize=16)\n",
    "axes[-1].set_ylabel('Final Policy (Stake)', fontsize=16)\n",
    "axes[-1].set_title('Ph = {}'.format(prob), fontsize=16)\n",
    "    "
   ]
  },
  {
   "cell_type": "code",
   "execution_count": 106,
   "metadata": {
    "scrolled": true
   },
   "outputs": [
    {
     "data": {
      "text/plain": [
       "Text(0.5, 1.0, 'Ph = 0.25')"
      ]
     },
     "execution_count": 106,
     "metadata": {},
     "output_type": "execute_result"
    }
   ],
   "source": [
    "axes.append(fig.add_subplot(2, 2, 2))\n",
    "axes[-1].plot(value)\n",
    "axes[-1].set_xlabel('Capital', fontsize=16)\n",
    "axes[-1].set_ylabel('Value Estimate', fontsize=16)\n",
    "axes[-1].set_title('Ph = {}'.format(prob), fontsize=16)"
   ]
  },
  {
   "cell_type": "code",
   "execution_count": 107,
   "metadata": {},
   "outputs": [
    {
     "data": {
      "text/plain": [
       "Text(0.5, 1.0, 'Ph = 0.55')"
      ]
     },
     "execution_count": 107,
     "metadata": {},
     "output_type": "execute_result"
    }
   ],
   "source": [
    "state_num = 99\n",
    "prob = 0.55\n",
    "\n",
    "axes.append(fig.add_subplot(2, 2, 3))\n",
    "for i in range(100):\n",
    "    policy, value = gamble(prob=prob, state_num=state_num)\n",
    "    axes[-1].plot(range(1, state_num+1), policy[:, 0], 'o', color='blue')\n",
    "axes[-1].set_xlabel('Capital', fontsize=16)\n",
    "axes[-1].set_ylabel('Final Policy (Stake)', fontsize=16)\n",
    "axes[-1].set_title('Ph = {}'.format(prob), fontsize=16)"
   ]
  },
  {
   "cell_type": "code",
   "execution_count": 108,
   "metadata": {},
   "outputs": [
    {
     "data": {
      "text/plain": [
       "Text(0.5, 1.0, 'Ph = 0.55')"
      ]
     },
     "execution_count": 108,
     "metadata": {},
     "output_type": "execute_result"
    }
   ],
   "source": [
    "axes.append(fig.add_subplot(2, 2, 4))\n",
    "axes[-1].plot(value)\n",
    "axes[-1].set_xlabel('Capital', fontsize=16)\n",
    "axes[-1].set_ylabel('Value Estimate', fontsize=16)\n",
    "axes[-1].set_title('Ph = {}'.format(prob), fontsize=16)"
   ]
  },
  {
   "cell_type": "code",
   "execution_count": 109,
   "metadata": {},
   "outputs": [],
   "source": [
    "fig.tight_layout() \n",
    "plt.show()\n",
    "fig.savefig('gamble.png', bbox_inches='tight', dpi=200)"
   ]
  }
 ],
 "metadata": {
  "kernelspec": {
   "display_name": "Python 3",
   "language": "python",
   "name": "python3"
  },
  "language_info": {
   "codemirror_mode": {
    "name": "ipython",
    "version": 3
   },
   "file_extension": ".py",
   "mimetype": "text/x-python",
   "name": "python",
   "nbconvert_exporter": "python",
   "pygments_lexer": "ipython3",
   "version": "3.7.0"
  },
  "latex_envs": {
   "LaTeX_envs_menu_present": true,
   "autoclose": true,
   "autocomplete": true,
   "bibliofile": "biblio.bib",
   "cite_by": "apalike",
   "current_citInitial": 1,
   "eqLabelWithNumbers": true,
   "eqNumInitial": 1,
   "hotkeys": {
    "equation": "Ctrl-E",
    "itemize": "Ctrl-I"
   },
   "labels_anchors": false,
   "latex_user_defs": false,
   "report_style_numbering": false,
   "user_envs_cfg": false
  }
 },
 "nbformat": 4,
 "nbformat_minor": 2
}
